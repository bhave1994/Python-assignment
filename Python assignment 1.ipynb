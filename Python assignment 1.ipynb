{
 "cells": [
  {
   "cell_type": "code",
   "execution_count": null,
   "id": "162ca3be",
   "metadata": {},
   "outputs": [],
   "source": [
    "\"\"\"\n",
    "# Q1. What is the purpose of Python's OOPS?\n",
    "\n",
    "The purpose is to implement real-world entities like inheritance, polymorphisms, encapsulation, etc. in the programming and\n",
    "the main concept of OOPS is to find the data and function in a such way that can work together as a single unit so that no other\n",
    "data can access this data\n",
    "\n",
    "OOPs Concepts in Python\n",
    "Class\n",
    "Objects\n",
    "Polymorphism\n",
    "Encapsulation\n",
    "Inheritance\n",
    "Data Abstraction \n",
    "\n",
    "#2. Where does an inheritance search look for an attribute?\n",
    "Inheritence looks for a attribute first in the instance created for the class and then it searches in class followed \n",
    "by a superclass progressing from left to right (bydefault)\n",
    "\n",
    "Q3. How do you distinguish between a class object and an instance object?\n",
    "A class is a type of blueprint that you can use to make object,template for objects. A class defines object properties including a valid range of \n",
    "values, and a default value. A class also describes object behavior while a instance object is used to call a class,the term \n",
    "'instance' refers to an object's relationship to its class and an object is a member or an \"instance\" of a class.\n",
    "\n",
    "Q4. What makes the first argument in a class’s method function special?\n",
    "The First argument of a class including init is always a reference to the current class,this argument is always named as self\n",
    " \n",
    "Q5. What is the purpose of the __init__ method?\n",
    "Init method,self refers to the newly created object\n",
    "\n",
    "Q6. What is the process for creating a class instance?\n",
    "We call the class using class name and pass in whatever arguments its __init__ method accepts\n",
    "\n",
    "Q7. What is the process for creating a class?\n",
    "Classes are declared by the keyword class followed by the class name\n",
    "\n",
    "Q8. How would you define the superclasses of a class?\n",
    "A superclass is the class from which many subclasses can be created.\n",
    "\n",
    "\"\"\"\n"
   ]
  }
 ],
 "metadata": {
  "kernelspec": {
   "display_name": "Python 3 (ipykernel)",
   "language": "python",
   "name": "python3"
  },
  "language_info": {
   "codemirror_mode": {
    "name": "ipython",
    "version": 3
   },
   "file_extension": ".py",
   "mimetype": "text/x-python",
   "name": "python",
   "nbconvert_exporter": "python",
   "pygments_lexer": "ipython3",
   "version": "3.9.7"
  }
 },
 "nbformat": 4,
 "nbformat_minor": 5
}
